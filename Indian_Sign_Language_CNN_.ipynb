{
  "nbformat": 4,
  "nbformat_minor": 0,
  "metadata": {
    "colab": {
      "provenance": [],
      "gpuType": "T4"
    },
    "kernelspec": {
      "name": "python3",
      "display_name": "Python 3"
    },
    "language_info": {
      "name": "python"
    },
    "accelerator": "GPU"
  },
  "cells": [
    {
      "cell_type": "markdown",
      "source": [
        "**Indian Sign Language**\n",
        "Indian Sign Language containing the English alphabets from A-Z & numbers 0-9.\n",
        "- This dataset contains sign language (indian version)\n",
        "- Same like spoken language sign language are also different area to area. For eg Amercian sign language , Indian sign language\n",
        "About Dataset\n",
        "-The dataset includes 1000 images per class which makes the dataset of 36000 images and the following image pre-processing techniques were applied on the dataset. The dimensions of the images are 250*250 with varying backgrounds.\n"
      ],
      "metadata": {
        "id": "ix9WqbWIlH_v"
      }
    },
    {
      "cell_type": "code",
      "source": [
        "!pip install split-folders\n"
      ],
      "metadata": {
        "colab": {
          "base_uri": "https://localhost:8080/"
        },
        "id": "3G0dbloWu54k",
        "outputId": "0cf9ca77-2567-45f6-ddb5-28158f5586d1"
      },
      "execution_count": 7,
      "outputs": [
        {
          "output_type": "stream",
          "name": "stdout",
          "text": [
            "Looking in indexes: https://pypi.org/simple, https://us-python.pkg.dev/colab-wheels/public/simple/\n",
            "Requirement already satisfied: split-folders in /usr/local/lib/python3.10/dist-packages (0.5.1)\n"
          ]
        }
      ]
    },
    {
      "cell_type": "code",
      "source": [
        "import numpy as np\n",
        "import pandas as pd\n",
        "import matplotlib.pyplot as plt\n",
        "import cv2\n",
        "from zipfile import ZipFile\n",
        "import tensorflow as tf\n",
        "from tensorflow import keras\n",
        "from tensorflow.keras.layers import Dense,Flatten,Conv2D,Dropout,MaxPool2D,BatchNormalization\n",
        "from tensorflow.keras.losses import SparseCategoricalCrossentropy\n",
        "from tensorflow.keras.models import Sequential\n",
        "from tensorflow.keras.optimizers import Adam\n",
        "from tensorflow.keras.callbacks import ModelCheckpoint\n"
      ],
      "metadata": {
        "id": "Sv96Z-89ouqk"
      },
      "execution_count": 8,
      "outputs": []
    },
    {
      "cell_type": "code",
      "source": [
        "# Dataset = kaggle datasets download -d atharvadumbre/indian-sign-language-islrtc-referred"
      ],
      "metadata": {
        "id": "RD1S8tJGoavf"
      },
      "execution_count": 9,
      "outputs": []
    },
    {
      "cell_type": "code",
      "source": [
        "!mkdir -p ~/.kaggle\n",
        "!cp kaggle.json ~/.kaggle/"
      ],
      "metadata": {
        "id": "KiDB4EK_mdkE"
      },
      "execution_count": 10,
      "outputs": []
    },
    {
      "cell_type": "code",
      "source": [
        "!kaggle datasets download -d atharvadumbre/indian-sign-language-islrtc-referred"
      ],
      "metadata": {
        "colab": {
          "base_uri": "https://localhost:8080/"
        },
        "id": "VKwDGux8ogm0",
        "outputId": "c055dcad-92d7-4e6b-e9e6-52174e95a977"
      },
      "execution_count": 11,
      "outputs": [
        {
          "output_type": "stream",
          "name": "stdout",
          "text": [
            "Warning: Your Kaggle API key is readable by other users on this system! To fix this, you can run 'chmod 600 /root/.kaggle/kaggle.json'\n",
            "Downloading indian-sign-language-islrtc-referred.zip to /content\n",
            " 99% 603M/609M [00:06<00:00, 127MB/s]\n",
            "100% 609M/609M [00:06<00:00, 93.5MB/s]\n"
          ]
        }
      ]
    },
    {
      "cell_type": "code",
      "source": [
        "# This code is used to extract the zip file\n",
        "zip_file_path='/content/indian-sign-language-islrtc-referred.zip'\n",
        "with ZipFile(zip_file_path,'r') as zip:\n",
        "  zip.extractall()\n",
        "  zip.close()"
      ],
      "metadata": {
        "id": "fOEr9cLjolIm"
      },
      "execution_count": 12,
      "outputs": []
    },
    {
      "cell_type": "markdown",
      "source": [
        "**Split Folders** :\n",
        "This module is used to split the images data of sign language into Training and validiation dataset and the ratio i have taken is 80 % in train and 20% in validiation"
      ],
      "metadata": {
        "id": "sIHzQCYt4jWy"
      }
    },
    {
      "cell_type": "code",
      "source": [
        "import splitfolders\n",
        "data_dir = '/content/original_images'\n",
        "\n",
        "output_dir = '/content/all_images'\n",
        "\n",
        "splitfolders.ratio(data_dir, output=output_dir, seed=42, ratio=(0.8, 0.2))\n"
      ],
      "metadata": {
        "colab": {
          "base_uri": "https://localhost:8080/"
        },
        "id": "62sKYk8irfuR",
        "outputId": "f3bf06c2-3139-4b3a-8f48-23b06c2891b5"
      },
      "execution_count": 13,
      "outputs": [
        {
          "output_type": "stream",
          "name": "stderr",
          "text": [
            "Copying files: 36000 files [00:11, 3260.46 files/s]\n"
          ]
        }
      ]
    },
    {
      "cell_type": "code",
      "source": [
        "train_data = keras.utils.image_dataset_from_directory(\n",
        "    directory = '/content/all_images/train',\n",
        "    labels='inferred',\n",
        "    label_mode = 'int',\n",
        "    batch_size=32,\n",
        "    image_size=(224,224)\n",
        ")"
      ],
      "metadata": {
        "colab": {
          "base_uri": "https://localhost:8080/"
        },
        "id": "w3ISpLRtuh-3",
        "outputId": "a0c9b292-415d-4de9-96e8-a87b485ddcdd"
      },
      "execution_count": 14,
      "outputs": [
        {
          "output_type": "stream",
          "name": "stdout",
          "text": [
            "Found 28800 files belonging to 36 classes.\n"
          ]
        }
      ]
    },
    {
      "cell_type": "code",
      "source": [
        "val_data = keras.utils.image_dataset_from_directory(\n",
        "    directory = '/content/all_images/val',\n",
        "    labels='inferred',\n",
        "    label_mode = 'int',\n",
        "    batch_size=32,\n",
        "    image_size=(224,224)\n",
        ")"
      ],
      "metadata": {
        "colab": {
          "base_uri": "https://localhost:8080/"
        },
        "id": "NjI8OoGMvttd",
        "outputId": "71dedde8-a6e3-4c7b-d44d-eedfe8d108e4"
      },
      "execution_count": 15,
      "outputs": [
        {
          "output_type": "stream",
          "name": "stdout",
          "text": [
            "Found 7200 files belonging to 36 classes.\n"
          ]
        }
      ]
    },
    {
      "cell_type": "code",
      "source": [
        "def process_image(image,label):\n",
        "  image=tf.cast(image/255.,tf.float32)\n",
        "  return image,label\n"
      ],
      "metadata": {
        "id": "RghzN_0awhkT"
      },
      "execution_count": 16,
      "outputs": []
    },
    {
      "cell_type": "code",
      "source": [
        "train_data=train_data.map(process_image)\n",
        "val_data=val_data.map(process_image)\n"
      ],
      "metadata": {
        "id": "Tjj3UffAwpxG"
      },
      "execution_count": 17,
      "outputs": []
    },
    {
      "cell_type": "markdown",
      "source": [
        " **CNN Architecture**\n",
        " 1. The provided code creates a sequential model for image classification using the Keras framework in Python. It starts with a convolutional layer that applies 64 filters with a size of 3x3 to the input images, followed by a ReLU activation function. The max pooling layer with a pool size of 2x2 reduces the spatial dimensions of the feature maps.\n",
        "\n",
        " 2. The process is repeated with a second convolutional layer with 256 filters, followed by another max pooling layer. Then, a third convolutional layer with 512 filters and a max pooling layer are added. These layers help extract higher-level features from the input images.\n",
        "\n",
        " 3. Next, a flattening layer is used to convert the 2D feature maps into a 1D vector, which is then passed through a dense layer with 256 units. Finally, the output layer consists of 36 units with a softmax activation function, representing the 36 possible classes for classification.\n",
        "\n",
        " 4. The model.summary() function provides a summary of the model architecture, including the number of parameters and the shape of each layer's output."
      ],
      "metadata": {
        "id": "NlO3F2zE5589"
      }
    },
    {
      "cell_type": "code",
      "source": [
        "model=Sequential()\n",
        "\n",
        "model.add(Conv2D(64,(3,3),activation=\"relu\",input_shape=(224,224,3)))\n",
        "model.add(MaxPool2D(pool_size=(2,2)))\n",
        "\n",
        "\n",
        "\n",
        "model.add(Conv2D(256,(3,3),activation=\"relu\"))\n",
        "model.add(MaxPool2D(pool_size=(2,2)))\n",
        "\n",
        "\n",
        "\n",
        "model.add(Conv2D(512,(3,3),activation=\"relu\"))\n",
        "model.add(MaxPool2D(pool_size=(2,2)))\n",
        "\n",
        "model.add(Flatten())\n",
        "\n",
        "model.add(Dense(256))\n",
        "model.add(Dense(36,activation=\"softmax\"))\n",
        "\n",
        "model.summary()"
      ],
      "metadata": {
        "colab": {
          "base_uri": "https://localhost:8080/"
        },
        "id": "1mPIgKx22EO4",
        "outputId": "b89acb0b-7aa5-4dad-abeb-6ac85804dbd2"
      },
      "execution_count": 18,
      "outputs": [
        {
          "output_type": "stream",
          "name": "stdout",
          "text": [
            "Model: \"sequential\"\n",
            "_________________________________________________________________\n",
            " Layer (type)                Output Shape              Param #   \n",
            "=================================================================\n",
            " conv2d (Conv2D)             (None, 222, 222, 64)      1792      \n",
            "                                                                 \n",
            " max_pooling2d (MaxPooling2D  (None, 111, 111, 64)     0         \n",
            " )                                                               \n",
            "                                                                 \n",
            " conv2d_1 (Conv2D)           (None, 109, 109, 256)     147712    \n",
            "                                                                 \n",
            " max_pooling2d_1 (MaxPooling  (None, 54, 54, 256)      0         \n",
            " 2D)                                                             \n",
            "                                                                 \n",
            " conv2d_2 (Conv2D)           (None, 52, 52, 512)       1180160   \n",
            "                                                                 \n",
            " max_pooling2d_2 (MaxPooling  (None, 26, 26, 512)      0         \n",
            " 2D)                                                             \n",
            "                                                                 \n",
            " flatten (Flatten)           (None, 346112)            0         \n",
            "                                                                 \n",
            " dense (Dense)               (None, 256)               88604928  \n",
            "                                                                 \n",
            " dense_1 (Dense)             (None, 36)                9252      \n",
            "                                                                 \n",
            "=================================================================\n",
            "Total params: 89,943,844\n",
            "Trainable params: 89,943,844\n",
            "Non-trainable params: 0\n",
            "_________________________________________________________________\n"
          ]
        }
      ]
    },
    {
      "cell_type": "code",
      "source": [
        "# to save the best weights for future use.\n",
        "checkpoint = ModelCheckpoint(filepath = 'model.h5', monitor = 'val_loss', save_best_only = True, save_weights_only = True)"
      ],
      "metadata": {
        "id": "vxGlOUgIYvOA"
      },
      "execution_count": 19,
      "outputs": []
    },
    {
      "cell_type": "code",
      "source": [
        "loss=SparseCategoricalCrossentropy()\n",
        "optimizers=Adam()\n",
        "\n",
        "\n",
        "model.compile(loss=loss,optimizer=optimizers,metrics=[\"acc\"])"
      ],
      "metadata": {
        "id": "0SC1j6aA3Jzl"
      },
      "execution_count": 20,
      "outputs": []
    },
    {
      "cell_type": "code",
      "source": [
        "history = model.fit(train_data,epochs=6,batch_size=32,validation_data=val_data,callbacks=checkpoint)"
      ],
      "metadata": {
        "colab": {
          "base_uri": "https://localhost:8080/"
        },
        "id": "-g10ySVv3d8S",
        "outputId": "f4263dec-4463-400b-e53f-104e687fb1b2"
      },
      "execution_count": 21,
      "outputs": [
        {
          "output_type": "stream",
          "name": "stdout",
          "text": [
            "Epoch 1/6\n",
            "900/900 [==============================] - 196s 200ms/step - loss: 1.4659 - acc: 0.6456 - val_loss: 0.3221 - val_acc: 0.9158\n",
            "Epoch 2/6\n",
            "900/900 [==============================] - 192s 213ms/step - loss: 0.2058 - acc: 0.9459 - val_loss: 0.1931 - val_acc: 0.9517\n",
            "Epoch 3/6\n",
            "900/900 [==============================] - 191s 211ms/step - loss: 0.0952 - acc: 0.9725 - val_loss: 0.1294 - val_acc: 0.9694\n",
            "Epoch 4/6\n",
            "900/900 [==============================] - 186s 206ms/step - loss: 0.0761 - acc: 0.9800 - val_loss: 0.0941 - val_acc: 0.9764\n",
            "Epoch 5/6\n",
            "900/900 [==============================] - 187s 208ms/step - loss: 0.0447 - acc: 0.9865 - val_loss: 0.1086 - val_acc: 0.9740\n",
            "Epoch 6/6\n",
            "900/900 [==============================] - 180s 200ms/step - loss: 0.0457 - acc: 0.9872 - val_loss: 0.1079 - val_acc: 0.9737\n"
          ]
        }
      ]
    },
    {
      "cell_type": "code",
      "source": [
        "model.load_weights(\"model.h5\")"
      ],
      "metadata": {
        "id": "k1EqpQ1zY-dL"
      },
      "execution_count": 21,
      "outputs": []
    },
    {
      "cell_type": "code",
      "source": [
        "acc = history.history['acc']\n",
        "val_acc = history.history['val_acc']\n",
        "loss = history.history['loss']\n",
        "val_loss = history.history['val_loss']"
      ],
      "metadata": {
        "id": "SqYWg01tZMib"
      },
      "execution_count": 22,
      "outputs": []
    },
    {
      "cell_type": "code",
      "source": [
        "import matplotlib.pyplot as plt\n",
        "\n",
        "epochs = range(1, len(acc) + 1)\n",
        "\n",
        "plt.plot(epochs, acc, 'bo', label='Training acc')\n",
        "plt.plot(epochs, val_acc, 'b', label='Validation acc')\n",
        "plt.title('Training and validation accuracy')\n",
        "plt.legend()\n",
        "\n",
        "plt.figure()\n",
        "\n",
        "plt.plot(epochs, loss, 'bo', label='Training loss')\n",
        "plt.plot(epochs, val_loss, 'b', label='Validation loss')\n",
        "plt.title('Training and validation loss')\n",
        "plt.legend()\n",
        "\n",
        "plt.show()"
      ],
      "metadata": {
        "colab": {
          "base_uri": "https://localhost:8080/",
          "height": 887
        },
        "id": "CRWHhGu4d9Fz",
        "outputId": "aa7d9106-3af6-4320-aca4-e5d0e92143ef"
      },
      "execution_count": 23,
      "outputs": [
        {
          "output_type": "display_data",
          "data": {
            "text/plain": [
              "<Figure size 640x480 with 1 Axes>"
            ],
            "image/png": "[encoded data removed]"
          },
          "metadata": {}
        },
        {
          "output_type": "display_data",
          "data": {
            "text/plain": [
              "<Figure size 640x480 with 1 Axes>"
            ],
            "image/png": "[encoded data removed]"
          },
          "metadata": {}
        }
      ]
    }
  ]
}